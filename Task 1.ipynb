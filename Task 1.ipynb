{
 "cells": [
  {
   "cell_type": "markdown",
   "id": "d624fc9e",
   "metadata": {},
   "source": [
    "# 1. Do the Exploratory Data Analysis & share the insights."
   ]
  },
  {
   "cell_type": "markdown",
   "id": "ba0fd58f",
   "metadata": {},
   "source": [
    "Exploratory Data Analysis refers to the critical process of performing initial investigations on data so as to discover patterns,to spot anomalies,to test hypothesis and to check assumptions with the help of summary statistics and graphical representations."
   ]
  },
  {
   "cell_type": "markdown",
   "id": "48a7c8e6",
   "metadata": {},
   "source": [
    "# 2. How would you segment customers based on their risk (of default)."
   ]
  },
  {
   "cell_type": "markdown",
   "id": "ed0cf818",
   "metadata": {},
   "source": [
    "If your company uses a conventional bad-debt provisioning process where 10% on all accounts that pay late is reserved, this doesn’t necessarily account for deeper historical behavior. Simply reserving that much currency can negatively impact expenses, especially when only certain customers – say your biggest – pay late only occasionally. Through segmentation, you can see that the dollars actually at risk could be considerably lower than when the surface data was examined. When you rely on risk-based analytics, you may conclude that such accounts are much more likely to present a very low risk. Therefore, you could be reserving 1%, not 10% as the traditional approach might dictate."
   ]
  },
  {
   "cell_type": "markdown",
   "id": "6b23a424",
   "metadata": {},
   "source": [
    "# 3. Which of these segments / sub-segments would you propose be approved?"
   ]
  },
  {
   "cell_type": "markdown",
   "id": "650c0e96",
   "metadata": {},
   "source": [
    "Demographic segmentation is the most commonly used criteria, since it requires information that can be collected easily and that enable you to quickly target a potential market. These criteria include gender, age, nationality, education, profession, income or family situation."
   ]
  },
  {
   "cell_type": "markdown",
   "id": "86ec5204",
   "metadata": {},
   "source": [
    "# 4. Tell us what your observations were on the data itself (completeness, skews)."
   ]
  },
  {
   "cell_type": "markdown",
   "id": "11b4c0e6",
   "metadata": {},
   "source": [
    "As you might already know, India has more than 50% of its population below the age of 25 and more than 65% below the age of 35. If you’ll plot the distribution of the age of the population of India, you will find that there is a hump on the left side of distribution and the right side is comparatively planar. In other words, we can say that there’s a skew towards the end, right?\n",
    "\n",
    "So even if you haven’t read up on skewness as a data science or analytics professional, you have definitely interacted with the concept on an informal note. And it’s actually a pretty easy topic in statistics – and yet a lot of folks skim through it in their haste of learning other seemingly complex data science concepts."
   ]
  },
  {
   "cell_type": "code",
   "execution_count": null,
   "id": "be7e3225",
   "metadata": {},
   "outputs": [],
   "source": []
  }
 ],
 "metadata": {
  "kernelspec": {
   "display_name": "Python 3 (ipykernel)",
   "language": "python",
   "name": "python3"
  },
  "language_info": {
   "codemirror_mode": {
    "name": "ipython",
    "version": 3
   },
   "file_extension": ".py",
   "mimetype": "text/x-python",
   "name": "python",
   "nbconvert_exporter": "python",
   "pygments_lexer": "ipython3",
   "version": "3.9.13"
  }
 },
 "nbformat": 4,
 "nbformat_minor": 5
}
